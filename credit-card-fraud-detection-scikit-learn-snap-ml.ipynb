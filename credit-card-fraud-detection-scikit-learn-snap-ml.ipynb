{
 "cells": [
  {
   "cell_type": "code",
   "execution_count": 1,
   "id": "b0511006",
   "metadata": {
    "_cell_guid": "b1076dfc-b9ad-4769-8c92-a6c4dae69d19",
    "_uuid": "8f2839f25d086af736a60e9eeb907d3b93b6e0e5",
    "execution": {
     "iopub.execute_input": "2024-01-23T19:40:55.499730Z",
     "iopub.status.busy": "2024-01-23T19:40:55.499386Z",
     "iopub.status.idle": "2024-01-23T19:41:06.211780Z",
     "shell.execute_reply": "2024-01-23T19:41:06.211097Z"
    },
    "papermill": {
     "duration": 10.717175,
     "end_time": "2024-01-23T19:41:06.213676",
     "exception": false,
     "start_time": "2024-01-23T19:40:55.496501",
     "status": "completed"
    },
    "tags": []
   },
   "outputs": [
    {
     "name": "stdout",
     "output_type": "stream",
     "text": [
      "Collecting snapml\r\n",
      "  Obtaining dependency information for snapml from https://files.pythonhosted.org/packages/9a/27/44a297b3feb86456d55a006f790ff6f6dcac176ed836dc1f7da345deeb93/snapml-1.15.3-cp310-cp310-manylinux_2_28_x86_64.whl.metadata\r\n",
      "  Downloading snapml-1.15.3-cp310-cp310-manylinux_2_28_x86_64.whl.metadata (1.7 kB)\r\n",
      "Requirement already satisfied: scikit-learn in /opt/conda/lib/python3.10/site-packages (from snapml) (1.2.2)\r\n",
      "Requirement already satisfied: scipy in /opt/conda/lib/python3.10/site-packages (from snapml) (1.11.4)\r\n",
      "Requirement already satisfied: numpy>=1.21.3 in /opt/conda/lib/python3.10/site-packages (from snapml) (1.24.3)\r\n",
      "Requirement already satisfied: joblib>=1.1.1 in /opt/conda/lib/python3.10/site-packages (from scikit-learn->snapml) (1.3.2)\r\n",
      "Requirement already satisfied: threadpoolctl>=2.0.0 in /opt/conda/lib/python3.10/site-packages (from scikit-learn->snapml) (3.2.0)\r\n",
      "Downloading snapml-1.15.3-cp310-cp310-manylinux_2_28_x86_64.whl (7.8 MB)\r\n",
      "\u001b[2K   \u001b[90m━━━━━━━━━━━━━━━━━━━━━━━━━━━━━━━━━━━━━━━━\u001b[0m \u001b[32m7.8/7.8 MB\u001b[0m \u001b[31m36.6 MB/s\u001b[0m eta \u001b[36m0:00:00\u001b[0m\r\n",
      "\u001b[?25hInstalling collected packages: snapml\r\n",
      "Successfully installed snapml-1.15.3\r\n"
     ]
    }
   ],
   "source": [
    "!pip install snapml"
   ]
  }
 ],
 "metadata": {
  "kaggle": {
   "accelerator": "none",
   "dataSources": [
    {
     "datasetId": 310,
     "sourceId": 23498,
     "sourceType": "datasetVersion"
    }
   ],
   "dockerImageVersionId": 30635,
   "isGpuEnabled": false,
   "isInternetEnabled": true,
   "language": "python",
   "sourceType": "notebook"
  },
  "kernelspec": {
   "display_name": "Python 3",
   "language": "python",
   "name": "python3"
  },
  "language_info": {
   "codemirror_mode": {
    "name": "ipython",
    "version": 3
   },
   "file_extension": ".py",
   "mimetype": "text/x-python",
   "name": "python",
   "nbconvert_exporter": "python",
   "pygments_lexer": "ipython3",
   "version": "3.10.12"
  },
  "papermill": {
   "default_parameters": {},
   "duration": 13.992903,
   "end_time": "2024-01-23T19:41:06.433655",
   "environment_variables": {},
   "exception": null,
   "input_path": "__notebook__.ipynb",
   "output_path": "__notebook__.ipynb",
   "parameters": {},
   "start_time": "2024-01-23T19:40:52.440752",
   "version": "2.4.0"
  }
 },
 "nbformat": 4,
 "nbformat_minor": 5
}
