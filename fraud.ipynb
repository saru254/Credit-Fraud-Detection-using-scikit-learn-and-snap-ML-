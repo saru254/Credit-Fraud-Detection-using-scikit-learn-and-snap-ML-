{
 "cells": [
  {
   "cell_type": "code",
   "execution_count": 1,
   "metadata": {},
   "outputs": [
    {
     "name": "stdout",
     "output_type": "stream",
     "text": [
      "Requirement already satisfied: snapml in c:\\users\\karen\\appdata\\local\\programs\\python\\python311\\lib\\site-packages (1.15.3)\n",
      "Requirement already satisfied: scikit-learn in c:\\users\\karen\\appdata\\local\\programs\\python\\python311\\lib\\site-packages (from snapml) (1.2.1)\n",
      "Requirement already satisfied: scipy in c:\\users\\karen\\appdata\\local\\programs\\python\\python311\\lib\\site-packages (from snapml) (1.10.0)\n",
      "Requirement already satisfied: numpy>=1.23.2 in c:\\users\\karen\\appdata\\local\\programs\\python\\python311\\lib\\site-packages (from snapml) (1.24.2)\n",
      "Requirement already satisfied: joblib>=1.1.1 in c:\\users\\karen\\appdata\\local\\programs\\python\\python311\\lib\\site-packages (from scikit-learn->snapml) (1.2.0)\n",
      "Requirement already satisfied: threadpoolctl>=2.0.0 in c:\\users\\karen\\appdata\\local\\programs\\python\\python311\\lib\\site-packages (from scikit-learn->snapml) (3.1.0)\n"
     ]
    }
   ],
   "source": [
    "!pip install snapml\n"
   ]
  },
  {
   "cell_type": "code",
   "execution_count": null,
   "metadata": {},
   "outputs": [],
   "source": [
    "#import the libraries.\n",
    "import warnings\n",
    "warnings.filterwarnings('ignore')\n",
    "\n",
    "from __future__import print_function\n",
    "from sklearn.model_selection import train_test_split\n",
    "from sklearn.preprocessing import normalize, StandardScaler\n",
    "from sklearn.utils.class_weight import compute_sample_weight\n",
    "from sklearn.metrics import roc_auc_score\n",
    "import time\n",
    "import gc, sys\n",
    "import numpy as np\n",
    "import pandas as pd\n",
    "import matplotlib.pyplot as plt\n",
    "%matplotlib inline\n"
   ]
  }
 ],
 "metadata": {
  "kernelspec": {
   "display_name": "Python 3",
   "language": "python",
   "name": "python3"
  },
  "language_info": {
   "codemirror_mode": {
    "name": "ipython",
    "version": 3
   },
   "file_extension": ".py",
   "mimetype": "text/x-python",
   "name": "python",
   "nbconvert_exporter": "python",
   "pygments_lexer": "ipython3",
   "version": "3.11.2"
  }
 },
 "nbformat": 4,
 "nbformat_minor": 2
}
