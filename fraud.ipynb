{
 "cells": [
  {
   "cell_type": "markdown",
   "metadata": {},
   "source": [
    "Credit Card Fraud Detection Using Scikit-learn and Snap ML"
   ]
  },
  {
   "cell_type": "code",
   "execution_count": 1,
   "metadata": {},
   "outputs": [
    {
     "name": "stdout",
     "output_type": "stream",
     "text": [
      "Collecting snapml\n",
      "  Downloading snapml-1.15.3-cp311-cp311-win_amd64.whl.metadata (1.8 kB)\n",
      "Requirement already satisfied: scikit-learn in c:\\users\\karen\\appdata\\local\\programs\\python\\python311\\lib\\site-packages (from snapml) (1.2.1)\n",
      "Requirement already satisfied: scipy in c:\\users\\karen\\appdata\\local\\programs\\python\\python311\\lib\\site-packages (from snapml) (1.10.0)\n",
      "Requirement already satisfied: numpy>=1.23.2 in c:\\users\\karen\\appdata\\local\\programs\\python\\python311\\lib\\site-packages (from snapml) (1.24.2)\n",
      "Requirement already satisfied: joblib>=1.1.1 in c:\\users\\karen\\appdata\\local\\programs\\python\\python311\\lib\\site-packages (from scikit-learn->snapml) (1.2.0)\n",
      "Requirement already satisfied: threadpoolctl>=2.0.0 in c:\\users\\karen\\appdata\\local\\programs\\python\\python311\\lib\\site-packages (from scikit-learn->snapml) (3.1.0)\n",
      "Downloading snapml-1.15.3-cp311-cp311-win_amd64.whl (1.2 MB)\n",
      "   ---------------------------------------- 0.0/1.2 MB ? eta -:--:--\n",
      "   - -------------------------------------- 0.0/1.2 MB 1.3 MB/s eta 0:00:01\n",
      "   - -------------------------------------- 0.0/1.2 MB 1.3 MB/s eta 0:00:01\n",
      "   - -------------------------------------- 0.0/1.2 MB 1.3 MB/s eta 0:00:01\n",
      "   --- ------------------------------------ 0.1/1.2 MB 521.8 kB/s eta 0:00:03\n",
      "   ---- ----------------------------------- 0.1/1.2 MB 566.5 kB/s eta 0:00:02\n",
      "   ----- ---------------------------------- 0.2/1.2 MB 517.2 kB/s eta 0:00:02\n",
      "   ------ --------------------------------- 0.2/1.2 MB 591.4 kB/s eta 0:00:02\n",
      "   -------- ------------------------------- 0.3/1.2 MB 603.8 kB/s eta 0:00:02\n",
      "   ----------- ---------------------------- 0.3/1.2 MB 720.5 kB/s eta 0:00:02\n",
      "   ------------- -------------------------- 0.4/1.2 MB 798.7 kB/s eta 0:00:01\n",
      "   ----------------- ---------------------- 0.5/1.2 MB 891.2 kB/s eta 0:00:01\n",
      "   -------------------- ------------------- 0.6/1.2 MB 933.9 kB/s eta 0:00:01\n",
      "   ---------------------- ----------------- 0.7/1.2 MB 937.7 kB/s eta 0:00:01\n",
      "   ------------------------ --------------- 0.7/1.2 MB 949.1 kB/s eta 0:00:01\n",
      "   --------------------------- ------------ 0.8/1.2 MB 995.0 kB/s eta 0:00:01\n",
      "   ------------------------------ --------- 0.9/1.2 MB 1.0 MB/s eta 0:00:01\n",
      "   ---------------------------------- ----- 1.0/1.2 MB 1.1 MB/s eta 0:00:01\n",
      "   ------------------------------------ --- 1.1/1.2 MB 1.1 MB/s eta 0:00:01\n",
      "   ------------------------------------ --- 1.1/1.2 MB 1.1 MB/s eta 0:00:01\n",
      "   ---------------------------------------  1.2/1.2 MB 1.1 MB/s eta 0:00:01\n",
      "   ---------------------------------------- 1.2/1.2 MB 1.0 MB/s eta 0:00:00\n",
      "Installing collected packages: snapml\n",
      "Successfully installed snapml-1.15.3\n"
     ]
    }
   ],
   "source": [
    "!pip install snapml"
   ]
  },
  {
   "cell_type": "code",
   "execution_count": null,
   "metadata": {},
   "outputs": [],
   "source": [
    "#importing the libraries\n"
   ]
  }
 ],
 "metadata": {
  "kernelspec": {
   "display_name": "Python 3",
   "language": "python",
   "name": "python3"
  },
  "language_info": {
   "codemirror_mode": {
    "name": "ipython",
    "version": 3
   },
   "file_extension": ".py",
   "mimetype": "text/x-python",
   "name": "python",
   "nbconvert_exporter": "python",
   "pygments_lexer": "ipython3",
   "version": "3.11.2"
  }
 },
 "nbformat": 4,
 "nbformat_minor": 2
}
